{
 "cells": [
  {
   "cell_type": "markdown",
   "metadata": {},
   "source": [
    "# 2016 ACTC Competition"
   ]
  },
  {
   "cell_type": "markdown",
   "metadata": {},
   "source": [
    "## Men's Single B"
   ]
  },
  {
   "cell_type": "code",
   "execution_count": 28,
   "metadata": {
    "collapsed": true
   },
   "outputs": [],
   "source": [
    "players = '''Jason Ju\n",
    "Jia Fu \n",
    "Mingfei Jiang\n",
    "Ran Li\n",
    "Scross Dounan Shao\n",
    "Robert Wang\n",
    "Wai Lam Poon\n",
    "Yuanxin Liang\n",
    "Alfred Wei\n",
    "yuanwei jiang\n",
    "LIYI XU\n",
    "Shiliang Zhao\n",
    "Zhihong Yang\n",
    "WEICHUN TANG\n",
    "Changhao Yu\n",
    "Qinghua Yin\n",
    "Hansheng Chen\n",
    "Liqun Niu\n",
    "Qun Zhuo\n",
    "HONG ZU WANG\n",
    "Ka Ming On\n",
    "Yan Yang\n",
    "Guanhong Rong\n",
    "Zhenxin Wang\n",
    "Congbinh Tran\n",
    "xiapeng huangfu\n",
    "Wei Fu\n",
    "Jun lin\n",
    "Michael Wang\n",
    "WANGZHE XIA\n",
    "zengling zhang\n",
    "Patrick Zhang'''"
   ]
  },
  {
   "cell_type": "code",
   "execution_count": 29,
   "metadata": {
    "collapsed": true
   },
   "outputs": [],
   "source": [
    "def players2list(players):\n",
    "    players = players.split('\\n')\n",
    "    player_list = []\n",
    "    for player in players:\n",
    "        player = player.strip().title().split(' ')\n",
    "        lastname = player[-1]\n",
    "        firstname = ' '.join(player[:-1])\n",
    "        \n",
    "        name = '{0} {1}'.format(lastname.upper(), firstname)\n",
    "        player_list.append(name)\n",
    "        \n",
    "    player_list.sort()\n",
    "    \n",
    "    return player_list"
   ]
  },
  {
   "cell_type": "code",
   "execution_count": 30,
   "metadata": {
    "collapsed": false
   },
   "outputs": [
    {
     "data": {
      "text/plain": [
       "['CHEN Hansheng',\n",
       " 'FU Jia',\n",
       " 'FU Wei',\n",
       " 'HUANGFU Xiapeng',\n",
       " 'JIANG Mingfei',\n",
       " 'JIANG Yuanwei',\n",
       " 'JU Jason',\n",
       " 'LI Ran',\n",
       " 'LIANG Yuanxin',\n",
       " 'LIN Jun',\n",
       " 'NIU Liqun',\n",
       " 'ON Ka Ming',\n",
       " 'POON Wai Lam',\n",
       " 'RONG Guanhong',\n",
       " 'SHAO Scross Dounan',\n",
       " 'TANG Weichun',\n",
       " 'TRAN Congbinh',\n",
       " 'WANG Hong Zu',\n",
       " 'WANG Michael',\n",
       " 'WANG Robert',\n",
       " 'WANG Zhenxin',\n",
       " 'WEI Alfred',\n",
       " 'XIA Wangzhe',\n",
       " 'XU Liyi',\n",
       " 'YANG Yan',\n",
       " 'YANG Zhihong',\n",
       " 'YIN Qinghua',\n",
       " 'YU Changhao',\n",
       " 'ZHANG Patrick',\n",
       " 'ZHANG Zengling',\n",
       " 'ZHAO Shiliang',\n",
       " 'ZHUO Qun']"
      ]
     },
     "execution_count": 30,
     "metadata": {},
     "output_type": "execute_result"
    }
   ],
   "source": [
    "player_list = players2list(players)\n",
    "player_list"
   ]
  },
  {
   "cell_type": "code",
   "execution_count": 31,
   "metadata": {
    "collapsed": true
   },
   "outputs": [],
   "source": [
    "def group_players(player_list, num):\n",
    "    group = {}\n",
    "    for n in range(1, num+1):\n",
    "        group[n] = []\n",
    "    \n",
    "    for i in range(len(player_list)):\n",
    "        if (i + 1) % num == 0:\n",
    "            group[num].append(player_list[i])\n",
    "        else:\n",
    "            group[(i+1)%num].append(player_list[i])\n",
    "    \n",
    "    return group"
   ]
  },
  {
   "cell_type": "code",
   "execution_count": 32,
   "metadata": {
    "collapsed": false
   },
   "outputs": [
    {
     "data": {
      "text/plain": [
       "{1: ['CHEN Hansheng', 'LIANG Yuanxin', 'TRAN Congbinh', 'YANG Yan'],\n",
       " 2: ['FU Jia', 'LIN Jun', 'WANG Hong Zu', 'YANG Zhihong'],\n",
       " 3: ['FU Wei', 'NIU Liqun', 'WANG Michael', 'YIN Qinghua'],\n",
       " 4: ['HUANGFU Xiapeng', 'ON Ka Ming', 'WANG Robert', 'YU Changhao'],\n",
       " 5: ['JIANG Mingfei', 'POON Wai Lam', 'WANG Zhenxin', 'ZHANG Patrick'],\n",
       " 6: ['JIANG Yuanwei', 'RONG Guanhong', 'WEI Alfred', 'ZHANG Zengling'],\n",
       " 7: ['JU Jason', 'SHAO Scross Dounan', 'XIA Wangzhe', 'ZHAO Shiliang'],\n",
       " 8: ['LI Ran', 'TANG Weichun', 'XU Liyi', 'ZHUO Qun']}"
      ]
     },
     "execution_count": 32,
     "metadata": {},
     "output_type": "execute_result"
    }
   ],
   "source": [
    "groups = group_players(player_list, 8)\n",
    "groups"
   ]
  },
  {
   "cell_type": "code",
   "execution_count": 33,
   "metadata": {
    "collapsed": false
   },
   "outputs": [
    {
     "name": "stdout",
     "output_type": "stream",
     "text": [
      "1\n",
      "CHEN Hansheng\n",
      "LIANG Yuanxin\n",
      "TRAN Congbinh\n",
      "YANG Yan\n",
      "2\n",
      "FU Jia\n",
      "LIN Jun\n",
      "WANG Hong Zu\n",
      "YANG Zhihong\n",
      "3\n",
      "FU Wei\n",
      "NIU Liqun\n",
      "WANG Michael\n",
      "YIN Qinghua\n",
      "4\n",
      "HUANGFU Xiapeng\n",
      "ON Ka Ming\n",
      "WANG Robert\n",
      "YU Changhao\n",
      "5\n",
      "JIANG Mingfei\n",
      "POON Wai Lam\n",
      "WANG Zhenxin\n",
      "ZHANG Patrick\n",
      "6\n",
      "JIANG Yuanwei\n",
      "RONG Guanhong\n",
      "WEI Alfred\n",
      "ZHANG Zengling\n",
      "7\n",
      "JU Jason\n",
      "SHAO Scross Dounan\n",
      "XIA Wangzhe\n",
      "ZHAO Shiliang\n",
      "8\n",
      "LI Ran\n",
      "TANG Weichun\n",
      "XU Liyi\n",
      "ZHUO Qun\n"
     ]
    }
   ],
   "source": [
    "for gid, players in groups.iteritems():\n",
    "    print gid\n",
    "    for player in players:\n",
    "        print player"
   ]
  },
  {
   "cell_type": "markdown",
   "metadata": {},
   "source": [
    "## Men's Double B"
   ]
  },
  {
   "cell_type": "code",
   "execution_count": 34,
   "metadata": {
    "collapsed": true
   },
   "outputs": [],
   "source": [
    "players1 = '''Han Li\n",
    "Fu Jia\n",
    "Wai Lam Poon\n",
    "Mingfei Jiang\n",
    "WEICHUN TANG\n",
    "KENG CAO\n",
    "Jason Weihua Zhu\n",
    "Qinghua Yin\n",
    "Hong Zu Wang \n",
    "Charlie Wang\n",
    "Ming Zhu\n",
    "Yuanxin Liang\n",
    "Howard Cai\n",
    "Ka Ming On\n",
    "Juncong Zhao\n",
    "XINHUI  CHENG\n",
    "Zhimin Ling\n",
    "Peizhong Chen\n",
    "Jun lin\n",
    "Honghao Li\n",
    "JUN SU\n",
    "Yuan Tian\n",
    "Ran Li\n",
    "William Chan'''\n",
    "\n",
    "players2 = '''Jason Ju\n",
    "Zigang Zhang\n",
    "Scross Dounan Shao\n",
    "Guo Shao Bo\n",
    "Minh Pham \n",
    "JIAQI ZHANG\n",
    "Zhihong Yang\n",
    "Yuanwei Jiang\n",
    "CHIEN-CHEN LIN\n",
    "Christopher Cheung\n",
    "Alfred Wei\n",
    "Zhenxin Wang\n",
    "Alex Cai\n",
    "Congbinh Tran\n",
    "Liqun Niu\n",
    "kYLE CHENG\n",
    "Leo Liang\n",
    "Gary Chen\n",
    "Robin xu\n",
    "Zhuo John Ma\n",
    "TAO SUN\n",
    "Wenhua Pang\n",
    "Maxime\n",
    "Boun Lui'''"
   ]
  },
  {
   "cell_type": "code",
   "execution_count": 45,
   "metadata": {
    "collapsed": true
   },
   "outputs": [],
   "source": [
    "def players2list_nosort(players):\n",
    "    players = players.split('\\n')\n",
    "    player_list = []\n",
    "    for player in players:\n",
    "        player = player.strip().title().split(' ')\n",
    "        lastname = player[-1]\n",
    "        firstname = ' '.join(player[:-1])\n",
    "        \n",
    "        name = '{0} {1}'.format(lastname.upper(), firstname)\n",
    "        player_list.append(name)\n",
    "    \n",
    "    return player_list"
   ]
  },
  {
   "cell_type": "code",
   "execution_count": 46,
   "metadata": {
    "collapsed": false
   },
   "outputs": [],
   "source": [
    "def merge_double(players1, players2):\n",
    "    player1_list = players2list_nosort(players1)\n",
    "    player2_list = players2list_nosort(players2)\n",
    "    players = zip(player1_list, player2_list)\n",
    "    player_list = ['{0} & {1}'.format(i[0], i[1]) for i in players]\n",
    "    player_list.sort()\n",
    "    \n",
    "    return player_list"
   ]
  },
  {
   "cell_type": "code",
   "execution_count": 48,
   "metadata": {
    "collapsed": false
   },
   "outputs": [
    {
     "data": {
      "text/plain": [
       "['CAI Howard & CAI Alex',\n",
       " 'CAO Keng & ZHANG Jiaqi',\n",
       " 'CHAN William & LUI Boun',\n",
       " 'CHEN Peizhong & CHEN Gary',\n",
       " 'CHENG Xinhui  & CHENG Kyle',\n",
       " 'JIA Fu & ZHANG Zigang',\n",
       " 'JIANG Mingfei & BO Guo Shao',\n",
       " 'LI Han & JU Jason',\n",
       " 'LI Honghao & MA Zhuo John',\n",
       " 'LI Ran & MAXIME ',\n",
       " 'LIANG Yuanxin & WANG Zhenxin',\n",
       " 'LIN Jun & XU Robin',\n",
       " 'LING Zhimin & LIANG Leo',\n",
       " 'ON Ka Ming & TRAN Congbinh',\n",
       " 'POON Wai Lam & SHAO Scross Dounan',\n",
       " 'SU Jun & SUN Tao',\n",
       " 'TANG Weichun & PHAM Minh',\n",
       " 'TIAN Yuan & PANG Wenhua',\n",
       " 'WANG Charlie & CHEUNG Christopher',\n",
       " 'WANG Hong Zu & LIN Chien-Chen',\n",
       " 'YIN Qinghua & JIANG Yuanwei',\n",
       " 'ZHAO Juncong & NIU Liqun',\n",
       " 'ZHU Jason Weihua & YANG Zhihong',\n",
       " 'ZHU Ming & WEI Alfred']"
      ]
     },
     "execution_count": 48,
     "metadata": {},
     "output_type": "execute_result"
    }
   ],
   "source": [
    "b_double = merge_double(players1, players2)\n",
    "b_double"
   ]
  },
  {
   "cell_type": "code",
   "execution_count": 49,
   "metadata": {
    "collapsed": false
   },
   "outputs": [
    {
     "data": {
      "text/plain": [
       "{1: ['CAI Howard & CAI Alex',\n",
       "  'JIANG Mingfei & BO Guo Shao',\n",
       "  'LING Zhimin & LIANG Leo',\n",
       "  'WANG Charlie & CHEUNG Christopher'],\n",
       " 2: ['CAO Keng & ZHANG Jiaqi',\n",
       "  'LI Han & JU Jason',\n",
       "  'ON Ka Ming & TRAN Congbinh',\n",
       "  'WANG Hong Zu & LIN Chien-Chen'],\n",
       " 3: ['CHAN William & LUI Boun',\n",
       "  'LI Honghao & MA Zhuo John',\n",
       "  'POON Wai Lam & SHAO Scross Dounan',\n",
       "  'YIN Qinghua & JIANG Yuanwei'],\n",
       " 4: ['CHEN Peizhong & CHEN Gary',\n",
       "  'LI Ran & MAXIME ',\n",
       "  'SU Jun & SUN Tao',\n",
       "  'ZHAO Juncong & NIU Liqun'],\n",
       " 5: ['CHENG Xinhui  & CHENG Kyle',\n",
       "  'LIANG Yuanxin & WANG Zhenxin',\n",
       "  'TANG Weichun & PHAM Minh',\n",
       "  'ZHU Jason Weihua & YANG Zhihong'],\n",
       " 6: ['JIA Fu & ZHANG Zigang',\n",
       "  'LIN Jun & XU Robin',\n",
       "  'TIAN Yuan & PANG Wenhua',\n",
       "  'ZHU Ming & WEI Alfred']}"
      ]
     },
     "execution_count": 49,
     "metadata": {},
     "output_type": "execute_result"
    }
   ],
   "source": [
    "b_double_groups = group_players(b_double, 6)\n",
    "b_double_groups"
   ]
  },
  {
   "cell_type": "code",
   "execution_count": 50,
   "metadata": {
    "collapsed": false
   },
   "outputs": [
    {
     "name": "stdout",
     "output_type": "stream",
     "text": [
      "1\n",
      "CAI Howard & CAI Alex\n",
      "JIANG Mingfei & BO Guo Shao\n",
      "LING Zhimin & LIANG Leo\n",
      "WANG Charlie & CHEUNG Christopher\n",
      "2\n",
      "CAO Keng & ZHANG Jiaqi\n",
      "LI Han & JU Jason\n",
      "ON Ka Ming & TRAN Congbinh\n",
      "WANG Hong Zu & LIN Chien-Chen\n",
      "3\n",
      "CHAN William & LUI Boun\n",
      "LI Honghao & MA Zhuo John\n",
      "POON Wai Lam & SHAO Scross Dounan\n",
      "YIN Qinghua & JIANG Yuanwei\n",
      "4\n",
      "CHEN Peizhong & CHEN Gary\n",
      "LI Ran & MAXIME \n",
      "SU Jun & SUN Tao\n",
      "ZHAO Juncong & NIU Liqun\n",
      "5\n",
      "CHENG Xinhui  & CHENG Kyle\n",
      "LIANG Yuanxin & WANG Zhenxin\n",
      "TANG Weichun & PHAM Minh\n",
      "ZHU Jason Weihua & YANG Zhihong\n",
      "6\n",
      "JIA Fu & ZHANG Zigang\n",
      "LIN Jun & XU Robin\n",
      "TIAN Yuan & PANG Wenhua\n",
      "ZHU Ming & WEI Alfred\n"
     ]
    }
   ],
   "source": [
    "for gid, players in b_double_groups.iteritems():\n",
    "    print gid\n",
    "    for player in players:\n",
    "        print player"
   ]
  },
  {
   "cell_type": "code",
   "execution_count": null,
   "metadata": {
    "collapsed": true
   },
   "outputs": [],
   "source": []
  }
 ],
 "metadata": {
  "anaconda-cloud": {},
  "kernelspec": {
   "display_name": "Python [default]",
   "language": "python",
   "name": "python2"
  },
  "language_info": {
   "codemirror_mode": {
    "name": "ipython",
    "version": 2
   },
   "file_extension": ".py",
   "mimetype": "text/x-python",
   "name": "python",
   "nbconvert_exporter": "python",
   "pygments_lexer": "ipython2",
   "version": "2.7.12"
  }
 },
 "nbformat": 4,
 "nbformat_minor": 1
}
