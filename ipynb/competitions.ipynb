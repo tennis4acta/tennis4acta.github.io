{
 "cells": [
  {
   "cell_type": "markdown",
   "metadata": {},
   "source": [
    "# 2016 ACTC Competition"
   ]
  },
  {
   "cell_type": "code",
   "execution_count": 36,
   "metadata": {
    "collapsed": false
   },
   "outputs": [],
   "source": [
    "def players2list(players, sort=True):\n",
    "    players = players.split('\\n')\n",
    "    player_list = []\n",
    "    for player in players:\n",
    "        player = player.strip().title().split(' ')\n",
    "        lastname = player[-1]\n",
    "        firstname = ' '.join(player[:-1])\n",
    "        \n",
    "        name = '{0} {1}'.format(lastname.upper(), firstname)\n",
    "        player_list.append(name)\n",
    "        \n",
    "    if sort:\n",
    "        player_list.sort()\n",
    "    \n",
    "    return player_list"
   ]
  },
  {
   "cell_type": "code",
   "execution_count": 2,
   "metadata": {
    "collapsed": true
   },
   "outputs": [],
   "source": [
    "def group_players(player_list, num):\n",
    "    group = {}\n",
    "    for n in range(1, num+1):\n",
    "        group[n] = []\n",
    "    \n",
    "    for i in range(len(player_list)):\n",
    "        if (i + 1) % num == 0:\n",
    "            group[num].append(player_list[i])\n",
    "        else:\n",
    "            group[(i+1)%num].append(player_list[i])\n",
    "    \n",
    "    return group"
   ]
  },
  {
   "cell_type": "code",
   "execution_count": 3,
   "metadata": {
    "collapsed": false
   },
   "outputs": [],
   "source": [
    "def print_group(groups):\n",
    "    for gid, players in groups.iteritems():\n",
    "        print gid\n",
    "        for player in players:\n",
    "            print player"
   ]
  },
  {
   "cell_type": "code",
   "execution_count": 4,
   "metadata": {
    "collapsed": true
   },
   "outputs": [],
   "source": [
    "def players2list_nosort(players):\n",
    "    players = players.split('\\n')\n",
    "    player_list = []\n",
    "    for player in players:\n",
    "        player = player.strip().title().split(' ')\n",
    "        lastname = player[-1]\n",
    "        firstname = ' '.join(player[:-1])\n",
    "        \n",
    "        name = '{0} {1}'.format(lastname.upper(), firstname)\n",
    "        player_list.append(name)\n",
    "    \n",
    "    return player_list"
   ]
  },
  {
   "cell_type": "code",
   "execution_count": 5,
   "metadata": {
    "collapsed": false
   },
   "outputs": [],
   "source": [
    "def merge_double(players1, players2):\n",
    "    player1_list = players2list_nosort(players1)\n",
    "    player2_list = players2list_nosort(players2)\n",
    "    players = zip(player1_list, player2_list)\n",
    "    player_list = ['{0} & {1}'.format(i[0], i[1]) for i in players]\n",
    "    player_list.sort()\n",
    "    \n",
    "    return player_list"
   ]
  },
  {
   "cell_type": "code",
   "execution_count": 13,
   "metadata": {
    "collapsed": true
   },
   "outputs": [],
   "source": [
    "def make_emails(email_string):\n",
    "    emails = [i.lower().strip() for i in email_string.split('\\n')]\n",
    "    for i in set(emails):\n",
    "        print i"
   ]
  },
  {
   "cell_type": "markdown",
   "metadata": {},
   "source": [
    "## Pro grade single"
   ]
  },
  {
   "cell_type": "code",
   "execution_count": 7,
   "metadata": {
    "collapsed": true
   },
   "outputs": [],
   "source": [
    "players = '''Samuel Yu\n",
    "Linda Li Huang\n",
    "Olivia Li Huang \n",
    "JUNTO QIU\n",
    "Samuel Harris \n",
    "John Hu\n",
    "Antonio Li\n",
    "Willie Hong'''\n",
    "\n",
    "players_noseed = '''Samuel Yu\n",
    "Olivia Li Huang \n",
    "JUNTO QIU\n",
    "Samuel Harris \n",
    "Antonio Li\n",
    "Willie Hong'''\n",
    "\n",
    "seeds = '''Linda Li Huang\n",
    "John Hu'''"
   ]
  },
  {
   "cell_type": "code",
   "execution_count": 10,
   "metadata": {
    "collapsed": false
   },
   "outputs": [
    {
     "name": "stdout",
     "output_type": "stream",
     "text": [
      "1\n",
      "HARRIS Samuel\n",
      "HUANG Olivia Li\n",
      "QIU Junto\n",
      "2\n",
      "HONG Willie\n",
      "LI Antonio\n",
      "YU Samuel\n",
      "\n",
      "\n",
      "1\n",
      "HU John\n",
      "2\n",
      "HUANG Linda Li\n"
     ]
    }
   ],
   "source": [
    "players_noseed_list = players2list(players_noseed)\n",
    "seeds_list = players2list(seeds)\n",
    "\n",
    "players_group = group_players(players_noseed_list, 2)\n",
    "seeds_group = group_players(seeds_list, 2)\n",
    "\n",
    "print_group(players_group)\n",
    "print '\\n'\n",
    "print_group(seeds_group)"
   ]
  },
  {
   "cell_type": "markdown",
   "metadata": {},
   "source": [
    "### Group A\n",
    "\n",
    "**HU John**\n",
    "\n",
    "HARRIS Samuel\n",
    "\n",
    "HUANG Olivia Li\n",
    "\n",
    "QIU Junto"
   ]
  },
  {
   "cell_type": "markdown",
   "metadata": {},
   "source": [
    "### Group B\n",
    "\n",
    "**HUANG Linda Li**\n",
    "\n",
    "HONG Willie\n",
    "\n",
    "LI Antonio\n",
    "\n",
    "YU Samuel"
   ]
  },
  {
   "cell_type": "code",
   "execution_count": 14,
   "metadata": {
    "collapsed": false
   },
   "outputs": [
    {
     "name": "stdout",
     "output_type": "stream",
     "text": [
      "li.antonio2003@gmail.com\n",
      "yuj@stgeorge.com.au\n",
      "daboau@yahoo.com\n",
      "asimlu1@hotmail.com\n",
      "juntoqiu@hotmail.com\n",
      "gongli54@gmail.com\n",
      "lisa.sydney22@gmail.com\n",
      "lilizhang@bigpond.com\n",
      "artsimcollection@yahoo.com.au\n",
      "williehongrsi@hotmail.com\n"
     ]
    }
   ],
   "source": [
    "# Emails\n",
    "emails = '''yuj@stgeorge.com.au\n",
    "lilizhang@bigpond.com\n",
    "lilizhang@bigpond.com\n",
    "juntoqiu@hotmail.com\n",
    "lisa.sydney22@gmail.com\n",
    "daboau@yahoo.com\n",
    "li.antonio2003@gmail.com\n",
    "williehongrsi@hotmail.com\n",
    "yuj@stgeorge.com.au \n",
    "lilizhang@bigpond.com\n",
    "lilizhang@bigpond.com\n",
    "artsimcollection@yahoo.com.au\n",
    "Lisa.sydney22@gmail.com\n",
    "gongli54@gmail.com\n",
    "yuj@stgeorge.com.au\n",
    "lilizhang@bigpond.com\n",
    "lilizhang@bigpond.com\n",
    "asimlu1@hotmail.com\n",
    "lisa.sydney22@gmail.com\n",
    "daboau@yahoo.com\n",
    "gongli54@gmail.com\n",
    "williehongrsi@hotmail.com'''\n",
    "\n",
    "make_emails(emails)"
   ]
  },
  {
   "cell_type": "markdown",
   "metadata": {},
   "source": [
    "## Senior Double"
   ]
  },
  {
   "cell_type": "code",
   "execution_count": 21,
   "metadata": {
    "collapsed": true
   },
   "outputs": [],
   "source": [
    "s_players_a = '''Robert Wang\n",
    "XUEMIN LI\n",
    "Yibo Zhou\n",
    "Zhihong Gui \n",
    "Yan Yang\n",
    "chongbai liang\n",
    "YU LIU\n",
    "zengling zhang\n",
    "Weiping Huang\n",
    "Gong li\n",
    "Yaping He\n",
    "GUOWU SONG\n",
    "Ni Qiuming\n",
    "ping yan li'''\n",
    "s_players_b = '''David Zheng\n",
    "LI JIAN GUO\n",
    "xxx yyy\n",
    "George Huang\n",
    "Lewis Lu\n",
    "kui zhang\n",
    "YI LU\n",
    "Pierre ki yin Mak\n",
    "Zhiwei Cen\n",
    "David fei\n",
    "Zheng Hong Chen\n",
    "JIN ZHAO HE\n",
    "zhaoqing Zhou \n",
    "Ping liu'''"
   ]
  },
  {
   "cell_type": "code",
   "execution_count": 22,
   "metadata": {
    "collapsed": false
   },
   "outputs": [
    {
     "name": "stdout",
     "output_type": "stream",
     "text": [
      "1\n",
      "GUI Zhihong & HUANG George\n",
      "LI Gong & FEI David\n",
      "LIANG Chongbai & ZHANG Kui\n",
      "SONG Guowu & HE Jin Zhao\n",
      "ZHANG Zengling & MAK Pierre Ki Yin\n",
      "2\n",
      "HE Yaping & CHEN Zheng Hong\n",
      "LI Ping Yan & LIU Ping\n",
      "LIU Yu & LU Yi\n",
      "WANG Robert & ZHENG David\n",
      "ZHOU Yibo & YYY Xxx\n",
      "3\n",
      "HUANG Weiping & CEN Zhiwei\n",
      "LI Xuemin & GUO Li Jian\n",
      "QIUMING Ni & ZHOU Zhaoqing\n",
      "YANG Yan & LU Lewis\n"
     ]
    }
   ],
   "source": [
    "s_player_list = merge_double(s_players_a, s_players_b)\n",
    "\n",
    "s_group = group_players(s_player_list, 3)\n",
    "\n",
    "print_group(s_group)"
   ]
  },
  {
   "cell_type": "markdown",
   "metadata": {},
   "source": [
    "## Junior Single"
   ]
  },
  {
   "cell_type": "code",
   "execution_count": 44,
   "metadata": {
    "collapsed": true
   },
   "outputs": [],
   "source": [
    "j_players='''Will Zhao\n",
    "Patrick Xu\n",
    "Sydney Xu\n",
    "KAICHENG QIU\n",
    "Michael Li \n",
    "Minxi Li\n",
    "raymond jiang\n",
    "Susannah Su\n",
    "Elwin Song\n",
    "Aaron Tian\n",
    "Chase Zhao\n",
    "JUNHONG QIU\n",
    "Harrison Liu\n",
    "Justin Zhao'''"
   ]
  },
  {
   "cell_type": "code",
   "execution_count": 45,
   "metadata": {
    "collapsed": false
   },
   "outputs": [
    {
     "name": "stdout",
     "output_type": "stream",
     "text": [
      "1\n",
      "ZHAO Will\n",
      "QIU Kaicheng\n",
      "JIANG Raymond\n",
      "TIAN Aaron\n",
      "LIU Harrison\n",
      "2\n",
      "XU Patrick\n",
      "LI Michael\n",
      "SU Susannah\n",
      "ZHAO Chase\n",
      "ZHAO Justin\n",
      "3\n",
      "XU Sydney\n",
      "LI Minxi\n",
      "SONG Elwin\n",
      "QIU Junhong\n"
     ]
    }
   ],
   "source": [
    "j_list = players2list(j_players, False)\n",
    "\n",
    "j_group = group_players(j_list, 3)\n",
    "\n",
    "print_group(j_group)"
   ]
  },
  {
   "cell_type": "code",
   "execution_count": null,
   "metadata": {
    "collapsed": true
   },
   "outputs": [],
   "source": []
  },
  {
   "cell_type": "markdown",
   "metadata": {},
   "source": [
    "## Men's Single B"
   ]
  },
  {
   "cell_type": "code",
   "execution_count": 47,
   "metadata": {
    "collapsed": true
   },
   "outputs": [],
   "source": [
    "bs_players = '''Jason Ju\n",
    "Fu Jia \n",
    "Mingfei Jiang\n",
    "Ran Li\n",
    "Scross Dounan Shao\n",
    "Robert Wang\n",
    "Wai Lam Poon\n",
    "Yuanxin Liang\n",
    "Alfred Wei\n",
    "jiang yuanwei\n",
    "LI YI XU\n",
    "Shiliang Zhao\n",
    "Zhihong Yang\n",
    "WEICHUN TANG\n",
    "Changhao Yu\n",
    "Qinghua Yin\n",
    "Hansheng Chen\n",
    "Liqun Niu\n",
    "Qun Zhuo\n",
    "HONG ZU WANG\n",
    "Ka Ming (Eric) On\n",
    "Yan Yang\n",
    "Guanhong Rong\n",
    "Zhenxin Wang\n",
    "Congbinh Tran\n",
    "xiapeng huangfu\n",
    "Wei Fu\n",
    "Jun lin\n",
    "Michael Wang\n",
    "WANGZHE XIA \n",
    "zengling zhang\n",
    "Patrick Zhang\n",
    "Jiyang Zheng\n",
    "Zhiqiang Qiao\n",
    "Alan (Vinh) Chung\n",
    "Jason Ju'''"
   ]
  },
  {
   "cell_type": "code",
   "execution_count": 48,
   "metadata": {
    "collapsed": false
   },
   "outputs": [
    {
     "name": "stdout",
     "output_type": "stream",
     "text": [
      "1\n",
      "CHEN Hansheng\n",
      "LI Ran\n",
      "SHAO Scross Dounan\n",
      "XIA Wangzhe\n",
      "ZHANG Zengling\n",
      "2\n",
      "CHUNG Alan (Vinh)\n",
      "LIANG Yuanxin\n",
      "TANG Weichun\n",
      "XU Li Yi\n",
      "ZHAO Shiliang\n",
      "3\n",
      "FU Wei\n",
      "LIN Jun\n",
      "TRAN Congbinh\n",
      "YANG Yan\n",
      "ZHENG Jiyang\n",
      "4\n",
      "HUANGFU Xiapeng\n",
      "NIU Liqun\n",
      "WANG Hong Zu\n",
      "YANG Zhihong\n",
      "ZHUO Qun\n",
      "5\n",
      "JIA Fu\n",
      "ON Ka Ming (Eric)\n",
      "WANG Michael\n",
      "YIN Qinghua\n",
      "6\n",
      "JIANG Mingfei\n",
      "POON Wai Lam\n",
      "WANG Robert\n",
      "YU Changhao\n",
      "7\n",
      "JU Jason\n",
      "QIAO Zhiqiang\n",
      "WANG Zhenxin\n",
      "YUANWEI Jiang\n",
      "8\n",
      "JU Jason\n",
      "RONG Guanhong\n",
      "WEI Alfred\n",
      "ZHANG Patrick\n"
     ]
    }
   ],
   "source": [
    "bs_list = players2list(bs_players)\n",
    "\n",
    "bs_group = group_players(bs_list, 8)\n",
    "\n",
    "print_group(bs_group)"
   ]
  },
  {
   "cell_type": "markdown",
   "metadata": {},
   "source": [
    "## Men's Double B"
   ]
  },
  {
   "cell_type": "code",
   "execution_count": 51,
   "metadata": {
    "collapsed": true
   },
   "outputs": [],
   "source": [
    "bd_players1 = '''Han Li\n",
    "fu Jia\n",
    "Wai Lam Poon\n",
    "Mingfei Jiang\n",
    "WEICHUN TANG\n",
    "KENG CAO\n",
    "Jason Weihua Zhu\n",
    "Qinghua Yin\n",
    "Hong Zu Wang \n",
    "Charlie Wang\n",
    "Ming Zhu\n",
    "Yuanxin Liang\n",
    "Howard Cai\n",
    "Ka Ming (Eric) On\n",
    "Juncong Zhao\n",
    "XINHUI  CHENG\n",
    "Zhimin Ling\n",
    "Peizhong Chen\n",
    "Jun lin\n",
    "Honghao Li\n",
    "JUN SU\n",
    "Yuan Tian\n",
    "Ran Li\n",
    "William Chan'''\n",
    "\n",
    "bd_players2 = '''Jason Ju\n",
    "murphy zhang\n",
    "Scross Dounan Shao\n",
    "Guo Shao Bo\n",
    "Minh Pham \n",
    "JIAQI ZHANG\n",
    "Zhihong Yang\n",
    "Yuanwei Jiang\n",
    "CHIEN-CHEN LIN\n",
    "Christopher Cheung\n",
    "Alfred Wei\n",
    "Zhenxin Wang\n",
    "Alex Cai\n",
    "Congbinh Tran\n",
    "Liqun Niu\n",
    "kYLE CHENG\n",
    "Leo Liang\n",
    "Gary Chen\n",
    "Robin xu\n",
    "Zhuo John Ma\n",
    "TAO SUN\n",
    "Wenhua Pang\n",
    "Maxime\n",
    "Boun Lui'''"
   ]
  },
  {
   "cell_type": "code",
   "execution_count": 52,
   "metadata": {
    "collapsed": false
   },
   "outputs": [
    {
     "name": "stdout",
     "output_type": "stream",
     "text": [
      "1\n",
      "CAI Howard & CAI Alex\n",
      "JIANG Mingfei & BO Guo Shao\n",
      "LING Zhimin & LIANG Leo\n",
      "WANG Charlie & CHEUNG Christopher\n",
      "2\n",
      "CAO Keng & ZHANG Jiaqi\n",
      "LI Han & JU Jason\n",
      "ON Ka Ming (Eric) & TRAN Congbinh\n",
      "WANG Hong Zu & LIN Chien-Chen\n",
      "3\n",
      "CHAN William & LUI Boun\n",
      "LI Honghao & MA Zhuo John\n",
      "POON Wai Lam & SHAO Scross Dounan\n",
      "YIN Qinghua & JIANG Yuanwei\n",
      "4\n",
      "CHEN Peizhong & CHEN Gary\n",
      "LI Ran & MAXIME \n",
      "SU Jun & SUN Tao\n",
      "ZHAO Juncong & NIU Liqun\n",
      "5\n",
      "CHENG Xinhui  & CHENG Kyle\n",
      "LIANG Yuanxin & WANG Zhenxin\n",
      "TANG Weichun & PHAM Minh\n",
      "ZHU Jason Weihua & YANG Zhihong\n",
      "6\n",
      "JIA Fu & ZHANG Murphy\n",
      "LIN Jun & XU Robin\n",
      "TIAN Yuan & PANG Wenhua\n",
      "ZHU Ming & WEI Alfred\n"
     ]
    }
   ],
   "source": [
    "bd_player_list = merge_double(bd_players1, bd_players2)\n",
    "\n",
    "bd_group = group_players(bd_player_list, 6)\n",
    "\n",
    "print_group(bd_group)"
   ]
  },
  {
   "cell_type": "markdown",
   "metadata": {},
   "source": [
    "## Women double"
   ]
  },
  {
   "cell_type": "code",
   "execution_count": 24,
   "metadata": {
    "collapsed": true
   },
   "outputs": [],
   "source": [
    "w_players1 = '''Sophie Wang\n",
    "April Pan\n",
    "Chuyun Yu\n",
    "Yingxin Lin\n",
    "Lin Xue\n",
    "Grace Chen\n",
    "Cindy Cheong\n",
    "WEIHUA GAO'''\n",
    "\n",
    "w_players2 = '''Jiang Jiang\n",
    "You hen Li\n",
    "Lydia Yin\n",
    "Ziqian Yin\n",
    "Crystal Ma\n",
    "Erin Liu\n",
    "Yasuko Brundrit\n",
    "Maria Xu'''"
   ]
  },
  {
   "cell_type": "code",
   "execution_count": 25,
   "metadata": {
    "collapsed": false
   },
   "outputs": [
    {
     "data": {
      "text/plain": [
       "['CHEN Grace & LIU Erin',\n",
       " 'CHEONG Cindy & BRUNDRIT Yasuko',\n",
       " 'GAO Weihua & XU Maria',\n",
       " 'LIN Yingxin & YIN Ziqian',\n",
       " 'PAN April & LI You Hen',\n",
       " 'WANG Sophie & JIANG Jiang',\n",
       " 'XUE Lin & MA Crystal',\n",
       " 'YU Chuyun & YIN Lydia']"
      ]
     },
     "execution_count": 25,
     "metadata": {},
     "output_type": "execute_result"
    }
   ],
   "source": [
    "w_double = merge_double(w_players1, w_players2)\n",
    "w_double"
   ]
  },
  {
   "cell_type": "code",
   "execution_count": 26,
   "metadata": {
    "collapsed": false
   },
   "outputs": [
    {
     "data": {
      "text/plain": [
       "{1: ['CHEN Grace & LIU Erin',\n",
       "  'GAO Weihua & XU Maria',\n",
       "  'PAN April & LI You Hen',\n",
       "  'XUE Lin & MA Crystal'],\n",
       " 2: ['CHEONG Cindy & BRUNDRIT Yasuko',\n",
       "  'LIN Yingxin & YIN Ziqian',\n",
       "  'WANG Sophie & JIANG Jiang',\n",
       "  'YU Chuyun & YIN Lydia']}"
      ]
     },
     "execution_count": 26,
     "metadata": {},
     "output_type": "execute_result"
    }
   ],
   "source": [
    "w_double_groups = group_players(w_double, 2)\n",
    "w_double_groups"
   ]
  },
  {
   "cell_type": "code",
   "execution_count": 28,
   "metadata": {
    "collapsed": false
   },
   "outputs": [
    {
     "name": "stdout",
     "output_type": "stream",
     "text": [
      "1\n",
      "CHEN Grace & LIU Erin\n",
      "GAO Weihua & XU Maria\n",
      "PAN April & LI You Hen\n",
      "XUE Lin & MA Crystal\n",
      "2\n",
      "CHEONG Cindy & BRUNDRIT Yasuko\n",
      "LIN Yingxin & YIN Ziqian\n",
      "WANG Sophie & JIANG Jiang\n",
      "YU Chuyun & YIN Lydia\n"
     ]
    }
   ],
   "source": [
    "print_group(w_double_groups)"
   ]
  },
  {
   "cell_type": "markdown",
   "metadata": {},
   "source": [
    "----"
   ]
  },
  {
   "cell_type": "code",
   "execution_count": 59,
   "metadata": {
    "collapsed": false
   },
   "outputs": [
    {
     "name": "stdout",
     "output_type": "stream",
     "text": [
      "1\n",
      "CHEN Grace & LIU Erin\n",
      "GAO Weihua & XU Maria\n",
      "MA Crystal & XUE Lin\n",
      "WANG Sophie & JIANG Jiang\n",
      "2\n",
      "CHEONG Cindy & BRUNDRIT Yasuko\n",
      "LIN Yingxin & YIN Ziqian\n",
      "PAN April & LI You Hen\n",
      "YU Chuyun & YIN Lydia\n"
     ]
    }
   ],
   "source": [
    "wt_players1 = '''Sophie Wang\n",
    "April Pan\n",
    "Chuyun Yu\n",
    "Yingxin Lin\n",
    "Crystal Ma\n",
    "Grace Chen\n",
    "Cindy Cheong\n",
    "WEIHUA GAO'''\n",
    "\n",
    "wt_players2 = '''Jiang Jiang\n",
    "You hen Li\n",
    "Lydia Yin\n",
    "Ziqian Yin\n",
    "Lin Xue\n",
    "Erin Liu\n",
    "Yasuko Brundrit\n",
    "Maria Xu'''\n",
    "\n",
    "wt_double = merge_double(wt_players1, wt_players2)\n",
    "wt_double_groups = group_players(wt_double, 2)\n",
    "print_groups(wt_double_groups)"
   ]
  },
  {
   "cell_type": "code",
   "execution_count": null,
   "metadata": {
    "collapsed": true
   },
   "outputs": [],
   "source": []
  },
  {
   "cell_type": "code",
   "execution_count": null,
   "metadata": {
    "collapsed": true
   },
   "outputs": [],
   "source": []
  }
 ],
 "metadata": {
  "anaconda-cloud": {},
  "kernelspec": {
   "display_name": "Python [default]",
   "language": "python",
   "name": "python2"
  },
  "language_info": {
   "codemirror_mode": {
    "name": "ipython",
    "version": 2
   },
   "file_extension": ".py",
   "mimetype": "text/x-python",
   "name": "python",
   "nbconvert_exporter": "python",
   "pygments_lexer": "ipython2",
   "version": "2.7.12"
  }
 },
 "nbformat": 4,
 "nbformat_minor": 1
}
