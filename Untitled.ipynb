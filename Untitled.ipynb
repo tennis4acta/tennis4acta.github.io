{
 "cells": [
  {
   "cell_type": "code",
   "execution_count": 7,
   "metadata": {
    "collapsed": false
   },
   "outputs": [],
   "source": [
    "original_txt = \"\"\"Bob_the_builder_2@hotmail.com,davidkinwong@hotmail.com,dong_w@yahoo.com,flptrade@bigpond.com,\n",
    "franktennistar@hotmail.com,garychen168@hotmail.com,gordonyu0028@gmail.com,Grace_yuhua@hotmail.com,\n",
    "info@mobileciti.com.au,liux626@hotmail.com,janicepark@msn.com,jc9494@gmail.com,\n",
    "mocktong@hotmail.com,jenniferhumail@yahoo.com.au,lanlandog@hotmail.com,Johnchen636@hotmail.com,\n",
    "jordanfeng@hotmail.com,kellieaus@hotmail.com,Peter.lin@ato.gov.au,lwmaggie@hotmail.com,\n",
    "meili_sec@yahoo.com,michaellinking@aol.com,nalphky@yahoo.com,pengj2@anz.com,\n",
    "percychan@optusnet.com.au,rebecca.yywong@optusnet.com.au,\n",
    "ricky_lee_wk@yahoo.com.au,shaobenweng@hotmail.com,sieucoms@hotmail.com,\n",
    "sport.gift@bigpond.com.au,stephenyu@optusnet.com.au,stewartdy@hotmail.com,slyv_t@hotmail.com,\n",
    "yangxinhua@hotmail.com,syukongdi@yahoo.com,teresa.li@people.net.au,threeqiu@tpg.com.au,\n",
    "tigermum@sina.com,toby_to@swiftdsl.com.au,tse888@gmail.com,ying11302004@yahoo.com,\n",
    "zhouli316@yahoo.com,sales@powerun.com,chan@drsmile.com.au,dhenryko@hotmail.com,jhuang1119@hotmail.com,\n",
    "pauli_nguyen@hotmail.com,thanhvo@optushome.com.au,davidkinwong@hotmail.com,jacky.Leung@anz.com,\n",
    "linyanqing@gmail.com,j.chan@tpg.com.au,Kevin.Hsu@reuters.com,pleung@westpac.com.au,\n",
    "lppforyou@hotmail.com,leozhou@hotmail.com,raymond@auctionaustralia.com.au,gavinpan2001@Yahoo.com,\n",
    "lmoore@biway.com.au,jiaqi0311@sina.com.cn, jia_luo@hotmail.com, ryangzhang@hotmail.com,\n",
    "frank@tri-pacific.com.au, sophia.su@optusnet.com.au, xiaozha@hotmail.com, \n",
    "celine_ywei@hotmail.com, linyanqing@gmail.com, \n",
    "uowhd@yahoo.com,zdengyun@hotmail.com,buscars@hotmail.com,linfan68@hybondair.com,\n",
    "stephen3leung@optusnet.com.au,sheenzhaox@gmail.com,bluemt69@hotmail.com,eric00on@yahoo.com.hk,\n",
    "eric@otcbs.com.au,hcai2002@yahoo.com.au,jinsshipchandler@hotmail.com, \n",
    "crono36@gmail.com,vickychang@hotmail.com,rose389898@hotmail.com,david.shu@dic.com.au,\n",
    "ekschan@optusnet.com.au,maccas_sundae_burger@hotmail.com,jamesjunjia@hotmail.com,\n",
    "rosalineho@hotmail.com,jenniferhumail@yahoo.com.au,terrycai288@hotmail.com,dtmy@optusnet.com.au,\n",
    "zuoren.liu@breville.com.au,neopets30@hotmail.com,dtmy@optusnet.com.au,\n",
    "newimm@hotmail.com,keith.is250@gmail.com,sunnyfish0906@gmail.com,\n",
    "newimm@hotmail.com,datongfu@optusnet.com.au,chenyong_fan@yahoo.com,pinkjade@hotmail.com,\n",
    "joshhua@optusnet.com.au,zhangjunyi7@hotmail.com,liuliu7531@hotmail.com,\n",
    "tonyfriends@gmail.com,yuting_sz@yahoo.com,york.y.huang@gmail.com,eagleskyhuang@gmail.com,\n",
    "stevenwjz@hotmail.com,yuting_sz@yahoo.com,wu.vivian@hotmail.com, hemhem6688@hotmail.com, \n",
    "behindgone@hotmail.com, glenelg878@hotmail.com, \n",
    "yu818@yahoo.cn,panhui0685@hotmail.com,auckland@hotmail.com, \n",
    "goodpanda@hotmail.com,deminzou@hotmail.com,kevin.li.letter@hotmail.com,\n",
    "goodpanda@hotmail.com,lwimam@gmail.com,kevilian@gmail.com,rose@ridersgroup.com,xkmail@gmail.com,\n",
    "zengfor@126.com,neilinaustralia@hotmail.com,yong.t.huang@gmail.com,\n",
    "ttang888@hotmail.com,thedraykid@hotmail.com, zdengyun@hotmail.com, \n",
    "neilinaustralia@hotmail.com,clementcheung@hotmail.com,shaofa@hotmail.com,chenrui00@hotmail.com,\n",
    "xqxiang@yahoo.com,kv_lg@hotmail.com,xiaobaimangmang@hotmail.com, \n",
    "yjjgdr@hotmail.com,guan.su@gmail.com,parry@enerjet.com.au,chenrui00@hotmail.com,\n",
    "shiliang.zhao@gmail.com,atao@pacbrands.com, \n",
    "xlkk@hotmail.com,xixi888@hotmail.com,huangruiyu013405@hotmail.com, \n",
    "floraxu2003@hotmail.com,lemonctp@hotmail.com,maxwinner@msn.com, \n",
    "gengbo327@hotmail.com,s970022@gmail.com, \n",
    "tim6699_2@hotmail.com,xuzhenga_a@hotmail.com,yanyan429@hotmail.com,romewzr@gmail.com,\n",
    "xxf81922506@hotmail.com,delaocnyx@hotmail.com,ada_lxq@hotmail.com,yishengyang@hotmail.com,\n",
    "tonyfriends@gmail.com,cornwong@126.com,sukyhuang@hotmail.com, \n",
    "amyshao001@hotmail.com, \n",
    "tcy80@yahoo.com,katielkl@hotmail.com,sanpii@hotmail.com,martinwang_oz@hotmail.com, \n",
    "spharm16@gmail.com, YUJ@stgeorge.com.au, annieoz@hotmail.com, xutie30@gmail.com, \n",
    "clira@163.com,mick4883@tpg.com.au,allenlaw2004@hotmail.com,zhaoyubrian@gmail.com,zane.zuo@gmail.com,julia0187@hotmail.com\"\"\"\n"
   ]
  },
  {
   "cell_type": "code",
   "execution_count": 16,
   "metadata": {
    "collapsed": false
   },
   "outputs": [],
   "source": [
    "email_list = [i.strip().lower() for i in original_txt.split(',')]"
   ]
  },
  {
   "cell_type": "code",
   "execution_count": 17,
   "metadata": {
    "collapsed": false
   },
   "outputs": [
    {
     "data": {
      "text/plain": [
       "176"
      ]
     },
     "execution_count": 17,
     "metadata": {},
     "output_type": "execute_result"
    }
   ],
   "source": [
    "len(email_list)"
   ]
  },
  {
   "cell_type": "code",
   "execution_count": 18,
   "metadata": {
    "collapsed": false
   },
   "outputs": [
    {
     "data": {
      "text/plain": [
       "['bob_the_builder_2@hotmail.com',\n",
       " 'davidkinwong@hotmail.com',\n",
       " 'dong_w@yahoo.com',\n",
       " 'flptrade@bigpond.com',\n",
       " 'franktennistar@hotmail.com',\n",
       " 'garychen168@hotmail.com',\n",
       " 'gordonyu0028@gmail.com',\n",
       " 'grace_yuhua@hotmail.com',\n",
       " 'info@mobileciti.com.au',\n",
       " 'liux626@hotmail.com',\n",
       " 'janicepark@msn.com',\n",
       " 'jc9494@gmail.com',\n",
       " 'mocktong@hotmail.com',\n",
       " 'jenniferhumail@yahoo.com.au',\n",
       " 'lanlandog@hotmail.com',\n",
       " 'johnchen636@hotmail.com',\n",
       " 'jordanfeng@hotmail.com',\n",
       " 'kellieaus@hotmail.com',\n",
       " 'peter.lin@ato.gov.au',\n",
       " 'lwmaggie@hotmail.com',\n",
       " 'meili_sec@yahoo.com',\n",
       " 'michaellinking@aol.com',\n",
       " 'nalphky@yahoo.com',\n",
       " 'pengj2@anz.com',\n",
       " 'percychan@optusnet.com.au',\n",
       " 'rebecca.yywong@optusnet.com.au',\n",
       " 'ricky_lee_wk@yahoo.com.au',\n",
       " 'shaobenweng@hotmail.com',\n",
       " 'sieucoms@hotmail.com',\n",
       " 'sport.gift@bigpond.com.au',\n",
       " 'stephenyu@optusnet.com.au',\n",
       " 'stewartdy@hotmail.com',\n",
       " 'slyv_t@hotmail.com',\n",
       " 'yangxinhua@hotmail.com',\n",
       " 'syukongdi@yahoo.com',\n",
       " 'teresa.li@people.net.au',\n",
       " 'threeqiu@tpg.com.au',\n",
       " 'tigermum@sina.com',\n",
       " 'toby_to@swiftdsl.com.au',\n",
       " 'tse888@gmail.com',\n",
       " 'ying11302004@yahoo.com',\n",
       " 'zhouli316@yahoo.com',\n",
       " 'sales@powerun.com',\n",
       " 'chan@drsmile.com.au',\n",
       " 'dhenryko@hotmail.com',\n",
       " 'jhuang1119@hotmail.com',\n",
       " 'pauli_nguyen@hotmail.com',\n",
       " 'thanhvo@optushome.com.au',\n",
       " 'davidkinwong@hotmail.com',\n",
       " 'jacky.leung@anz.com',\n",
       " 'linyanqing@gmail.com',\n",
       " 'j.chan@tpg.com.au',\n",
       " 'kevin.hsu@reuters.com',\n",
       " 'pleung@westpac.com.au',\n",
       " 'lppforyou@hotmail.com',\n",
       " 'leozhou@hotmail.com',\n",
       " 'raymond@auctionaustralia.com.au',\n",
       " 'gavinpan2001@yahoo.com',\n",
       " 'lmoore@biway.com.au',\n",
       " 'jiaqi0311@sina.com.cn',\n",
       " 'jia_luo@hotmail.com',\n",
       " 'ryangzhang@hotmail.com',\n",
       " 'frank@tri-pacific.com.au',\n",
       " 'sophia.su@optusnet.com.au',\n",
       " 'xiaozha@hotmail.com',\n",
       " 'celine_ywei@hotmail.com',\n",
       " 'linyanqing@gmail.com',\n",
       " 'uowhd@yahoo.com',\n",
       " 'zdengyun@hotmail.com',\n",
       " 'buscars@hotmail.com',\n",
       " 'linfan68@hybondair.com',\n",
       " 'stephen3leung@optusnet.com.au',\n",
       " 'sheenzhaox@gmail.com',\n",
       " 'bluemt69@hotmail.com',\n",
       " 'eric00on@yahoo.com.hk',\n",
       " 'eric@otcbs.com.au',\n",
       " 'hcai2002@yahoo.com.au',\n",
       " 'jinsshipchandler@hotmail.com',\n",
       " 'crono36@gmail.com',\n",
       " 'vickychang@hotmail.com',\n",
       " 'rose389898@hotmail.com',\n",
       " 'david.shu@dic.com.au',\n",
       " 'ekschan@optusnet.com.au',\n",
       " 'maccas_sundae_burger@hotmail.com',\n",
       " 'jamesjunjia@hotmail.com',\n",
       " 'rosalineho@hotmail.com',\n",
       " 'jenniferhumail@yahoo.com.au',\n",
       " 'terrycai288@hotmail.com',\n",
       " 'dtmy@optusnet.com.au',\n",
       " 'zuoren.liu@breville.com.au',\n",
       " 'neopets30@hotmail.com',\n",
       " 'dtmy@optusnet.com.au',\n",
       " 'newimm@hotmail.com',\n",
       " 'keith.is250@gmail.com',\n",
       " 'sunnyfish0906@gmail.com',\n",
       " 'newimm@hotmail.com',\n",
       " 'datongfu@optusnet.com.au',\n",
       " 'chenyong_fan@yahoo.com',\n",
       " 'pinkjade@hotmail.com',\n",
       " 'joshhua@optusnet.com.au',\n",
       " 'zhangjunyi7@hotmail.com',\n",
       " 'liuliu7531@hotmail.com',\n",
       " 'tonyfriends@gmail.com',\n",
       " 'yuting_sz@yahoo.com',\n",
       " 'york.y.huang@gmail.com',\n",
       " 'eagleskyhuang@gmail.com',\n",
       " 'stevenwjz@hotmail.com',\n",
       " 'yuting_sz@yahoo.com',\n",
       " 'wu.vivian@hotmail.com',\n",
       " 'hemhem6688@hotmail.com',\n",
       " 'behindgone@hotmail.com',\n",
       " 'glenelg878@hotmail.com',\n",
       " 'yu818@yahoo.cn',\n",
       " 'panhui0685@hotmail.com',\n",
       " 'auckland@hotmail.com',\n",
       " 'goodpanda@hotmail.com',\n",
       " 'deminzou@hotmail.com',\n",
       " 'kevin.li.letter@hotmail.com',\n",
       " 'goodpanda@hotmail.com',\n",
       " 'lwimam@gmail.com',\n",
       " 'kevilian@gmail.com',\n",
       " 'rose@ridersgroup.com',\n",
       " 'xkmail@gmail.com',\n",
       " 'zengfor@126.com',\n",
       " 'neilinaustralia@hotmail.com',\n",
       " 'yong.t.huang@gmail.com',\n",
       " 'ttang888@hotmail.com',\n",
       " 'thedraykid@hotmail.com',\n",
       " 'zdengyun@hotmail.com',\n",
       " 'neilinaustralia@hotmail.com',\n",
       " 'clementcheung@hotmail.com',\n",
       " 'shaofa@hotmail.com',\n",
       " 'chenrui00@hotmail.com',\n",
       " 'xqxiang@yahoo.com',\n",
       " 'kv_lg@hotmail.com',\n",
       " 'xiaobaimangmang@hotmail.com',\n",
       " 'yjjgdr@hotmail.com',\n",
       " 'guan.su@gmail.com',\n",
       " 'parry@enerjet.com.au',\n",
       " 'chenrui00@hotmail.com',\n",
       " 'shiliang.zhao@gmail.com',\n",
       " 'atao@pacbrands.com',\n",
       " 'xlkk@hotmail.com',\n",
       " 'xixi888@hotmail.com',\n",
       " 'huangruiyu013405@hotmail.com',\n",
       " 'floraxu2003@hotmail.com',\n",
       " 'lemonctp@hotmail.com',\n",
       " 'maxwinner@msn.com',\n",
       " 'gengbo327@hotmail.com',\n",
       " 's970022@gmail.com',\n",
       " 'tim6699_2@hotmail.com',\n",
       " 'xuzhenga_a@hotmail.com',\n",
       " 'yanyan429@hotmail.com',\n",
       " 'romewzr@gmail.com',\n",
       " 'xxf81922506@hotmail.com',\n",
       " 'delaocnyx@hotmail.com',\n",
       " 'ada_lxq@hotmail.com',\n",
       " 'yishengyang@hotmail.com',\n",
       " 'tonyfriends@gmail.com',\n",
       " 'cornwong@126.com',\n",
       " 'sukyhuang@hotmail.com',\n",
       " 'amyshao001@hotmail.com',\n",
       " 'tcy80@yahoo.com',\n",
       " 'katielkl@hotmail.com',\n",
       " 'sanpii@hotmail.com',\n",
       " 'martinwang_oz@hotmail.com',\n",
       " 'spharm16@gmail.com',\n",
       " 'yuj@stgeorge.com.au',\n",
       " 'annieoz@hotmail.com',\n",
       " 'xutie30@gmail.com',\n",
       " 'clira@163.com',\n",
       " 'mick4883@tpg.com.au',\n",
       " 'allenlaw2004@hotmail.com',\n",
       " 'zhaoyubrian@gmail.com',\n",
       " 'zane.zuo@gmail.com',\n",
       " 'julia0187@hotmail.com']"
      ]
     },
     "execution_count": 18,
     "metadata": {},
     "output_type": "execute_result"
    }
   ],
   "source": [
    "email_list"
   ]
  },
  {
   "cell_type": "code",
   "execution_count": 11,
   "metadata": {
    "collapsed": true
   },
   "outputs": [],
   "source": [
    "returned_list = \"\"\"shasha6111@hotmail.com\n",
    "dongxia@hotmail.com\n",
    "mick4883@tpg.com.au\n",
    "adalou@bank-of-china.com\n",
    "curtaingoods@yahoo.co.jp\n",
    "roni.trieu@fly.virgin.com\n",
    "steven.zhu@integ.net.au\n",
    "yu818@yahoo.cn\n",
    "zengfor@126.com\n",
    "hasegawa7@bigpond.com\n",
    "austrina@bigpond.net.au\n",
    "henglifan@optusnet.com.au\n",
    "James.Peng@anz.com\n",
    "atao@pacbrands.com\n",
    "jjza188@hotmail.com\n",
    "metase.neck@gmail.com\n",
    "aupanhui0685@hotmail.com\n",
    "richard.he@unomedicd.com\n",
    "hourjf@hotmail.com\n",
    "mick883@optusnet.com.au\n",
    "wendy.fu@schenker.com\n",
    "maichi@tpgi.com.au\n",
    "Xin.Gu@optus.com.au\n",
    "gavinpan@huawei.com\n",
    "kesum@cisco.com\n",
    "keiths@unwired.com.au\n",
    "tong_xu@optusnet.com.au\n",
    "cgrealty@optusnet.com.au\n",
    "lilyemb@optusnet.com.au\n",
    "mohamed.mouhajer@eds.com\n",
    "tom.lau@syd.textpacific.com.au\n",
    "tleung@cochlear.com.au\n",
    "beheung@optusnet.com.au\n",
    "yiyan@ozemail.com.au\n",
    "tianfei@optusnet.com.au\n",
    "z3098096@student.unsw.edu.au\n",
    "badawaki@letsgo.com.au\n",
    "\"\"\""
   ]
  },
  {
   "cell_type": "code",
   "execution_count": 19,
   "metadata": {
    "collapsed": true
   },
   "outputs": [],
   "source": [
    "returned = returned_list.split()\n",
    "returned = [i.lower() for i in returned]"
   ]
  },
  {
   "cell_type": "code",
   "execution_count": 20,
   "metadata": {
    "collapsed": false
   },
   "outputs": [
    {
     "data": {
      "text/plain": [
       "['shasha6111@hotmail.com',\n",
       " 'dongxia@hotmail.com',\n",
       " 'mick4883@tpg.com.au',\n",
       " 'adalou@bank-of-china.com',\n",
       " 'curtaingoods@yahoo.co.jp',\n",
       " 'roni.trieu@fly.virgin.com',\n",
       " 'steven.zhu@integ.net.au',\n",
       " 'yu818@yahoo.cn',\n",
       " 'zengfor@126.com',\n",
       " 'hasegawa7@bigpond.com',\n",
       " 'austrina@bigpond.net.au',\n",
       " 'henglifan@optusnet.com.au',\n",
       " 'james.peng@anz.com',\n",
       " 'atao@pacbrands.com',\n",
       " 'jjza188@hotmail.com',\n",
       " 'metase.neck@gmail.com',\n",
       " 'aupanhui0685@hotmail.com',\n",
       " 'richard.he@unomedicd.com',\n",
       " 'hourjf@hotmail.com',\n",
       " 'mick883@optusnet.com.au',\n",
       " 'wendy.fu@schenker.com',\n",
       " 'maichi@tpgi.com.au',\n",
       " 'xin.gu@optus.com.au',\n",
       " 'gavinpan@huawei.com',\n",
       " 'kesum@cisco.com',\n",
       " 'keiths@unwired.com.au',\n",
       " 'tong_xu@optusnet.com.au',\n",
       " 'cgrealty@optusnet.com.au',\n",
       " 'lilyemb@optusnet.com.au',\n",
       " 'mohamed.mouhajer@eds.com',\n",
       " 'tom.lau@syd.textpacific.com.au',\n",
       " 'tleung@cochlear.com.au',\n",
       " 'beheung@optusnet.com.au',\n",
       " 'yiyan@ozemail.com.au',\n",
       " 'tianfei@optusnet.com.au',\n",
       " 'z3098096@student.unsw.edu.au',\n",
       " 'badawaki@letsgo.com.au']"
      ]
     },
     "execution_count": 20,
     "metadata": {},
     "output_type": "execute_result"
    }
   ],
   "source": [
    "returned"
   ]
  },
  {
   "cell_type": "code",
   "execution_count": 21,
   "metadata": {
    "collapsed": false
   },
   "outputs": [
    {
     "name": "stdout",
     "output_type": "stream",
     "text": [
      "mick4883@tpg.com.au\n",
      "yu818@yahoo.cn\n",
      "zengfor@126.com\n",
      "atao@pacbrands.com\n"
     ]
    }
   ],
   "source": [
    "for i in returned:\n",
    "    if i in email_list:\n",
    "        print i"
   ]
  },
  {
   "cell_type": "code",
   "execution_count": 22,
   "metadata": {
    "collapsed": true
   },
   "outputs": [],
   "source": [
    "updated = [i for i in email_list if i not in returned]"
   ]
  },
  {
   "cell_type": "code",
   "execution_count": 24,
   "metadata": {
    "collapsed": false
   },
   "outputs": [
    {
     "data": {
      "text/plain": [
       "172"
      ]
     },
     "execution_count": 24,
     "metadata": {},
     "output_type": "execute_result"
    }
   ],
   "source": [
    "len(updated)"
   ]
  },
  {
   "cell_type": "code",
   "execution_count": 25,
   "metadata": {
    "collapsed": true
   },
   "outputs": [],
   "source": [
    "li_2012=\"\"\"Wangjiannsw@hotmail.com\n",
    "joe.zhou.8@hotmail.com\n",
    "joe.zhou.8@hotmail.com\n",
    "josephytlau@gmail.com\n",
    "gavinpan2001@yahoo.com\n",
    "jscclui@hotmail.com\n",
    "jscclui@hotmail.com\n",
    "yuj@stgeorge.com.au\n",
    "yuj@stgeorge.com.au\n",
    "jenny.lian@optusnet.com.au\n",
    "angeneca@yahoo.com.au\n",
    "angeneca@yahoo.com.au\n",
    "janus_k@hotmail.com\n",
    "Nesse.Chan40@gmail.com \n",
    "Nesse.Chan40@gmail.com \n",
    "cdwang98@yahoo.com\n",
    "cdwang98@yahoo.com\n",
    "Nesse.Chan40@gmail.com \n",
    "Zhongxy2001@hotmail.com\n",
    "aubeaches@gmail.com\n",
    "myanhsydney@yahoo.com\n",
    "Kui_l@hotmail.com\n",
    "min.wang.pp@gmail.com\n",
    "jhuang1119@hotmail.com\n",
    "nalphky@yahoo.com\n",
    "jhuang1119@hotmail.com\n",
    "angeneca@yahoo.com.au\n",
    "angeneca@yahoo.com.au\n",
    "janus_k@hotmail.com\n",
    "Nesse.Chan40@gmail.com \n",
    "Nesse.Chan40@gmail.com \n",
    "cdwang98@yahoo.com\n",
    "cdwang98@yahoo.com\n",
    "Nesse.Chan40@gmail.com \n",
    "Zhongxy2001@hotmail.com\n",
    "aubeaches@gmail.com\n",
    "myanhsydney@yahoo.com\n",
    "Kui_l@hotmail.com\n",
    "min.wang.pp@gmail.com\n",
    "jhuang1119@hotmail.com\n",
    "nalphky@yahoo.com\n",
    "jhuang1119@hotmail.com\n",
    "\"\"\""
   ]
  },
  {
   "cell_type": "code",
   "execution_count": 26,
   "metadata": {
    "collapsed": false
   },
   "outputs": [
    {
     "data": {
      "text/plain": [
       "['wangjiannsw@hotmail.com',\n",
       " 'joe.zhou.8@hotmail.com',\n",
       " 'joe.zhou.8@hotmail.com',\n",
       " 'josephytlau@gmail.com',\n",
       " 'gavinpan2001@yahoo.com',\n",
       " 'jscclui@hotmail.com',\n",
       " 'jscclui@hotmail.com',\n",
       " 'yuj@stgeorge.com.au',\n",
       " 'yuj@stgeorge.com.au',\n",
       " 'jenny.lian@optusnet.com.au',\n",
       " 'angeneca@yahoo.com.au',\n",
       " 'angeneca@yahoo.com.au',\n",
       " 'janus_k@hotmail.com',\n",
       " 'nesse.chan40@gmail.com',\n",
       " 'nesse.chan40@gmail.com',\n",
       " 'cdwang98@yahoo.com',\n",
       " 'cdwang98@yahoo.com',\n",
       " 'nesse.chan40@gmail.com',\n",
       " 'zhongxy2001@hotmail.com',\n",
       " 'aubeaches@gmail.com',\n",
       " 'myanhsydney@yahoo.com',\n",
       " 'kui_l@hotmail.com',\n",
       " 'min.wang.pp@gmail.com',\n",
       " 'jhuang1119@hotmail.com',\n",
       " 'nalphky@yahoo.com',\n",
       " 'jhuang1119@hotmail.com',\n",
       " 'angeneca@yahoo.com.au',\n",
       " 'angeneca@yahoo.com.au',\n",
       " 'janus_k@hotmail.com',\n",
       " 'nesse.chan40@gmail.com',\n",
       " 'nesse.chan40@gmail.com',\n",
       " 'cdwang98@yahoo.com',\n",
       " 'cdwang98@yahoo.com',\n",
       " 'nesse.chan40@gmail.com',\n",
       " 'zhongxy2001@hotmail.com',\n",
       " 'aubeaches@gmail.com',\n",
       " 'myanhsydney@yahoo.com',\n",
       " 'kui_l@hotmail.com',\n",
       " 'min.wang.pp@gmail.com',\n",
       " 'jhuang1119@hotmail.com',\n",
       " 'nalphky@yahoo.com',\n",
       " 'jhuang1119@hotmail.com']"
      ]
     },
     "execution_count": 26,
     "metadata": {},
     "output_type": "execute_result"
    }
   ],
   "source": [
    "li_2012 = [i.lower() for i in li_2012.split()]\n",
    "li_2012"
   ]
  },
  {
   "cell_type": "code",
   "execution_count": 27,
   "metadata": {
    "collapsed": false
   },
   "outputs": [
    {
     "name": "stdout",
     "output_type": "stream",
     "text": [
      "joe.zhou.8@hotmail.com\n",
      "jscclui@hotmail.com\n",
      "yuj@stgeorge.com.au\n",
      "angeneca@yahoo.com.au\n",
      "nesse.chan40@gmail.com\n",
      "cdwang98@yahoo.com\n",
      "nesse.chan40@gmail.com\n",
      "jhuang1119@hotmail.com\n",
      "angeneca@yahoo.com.au\n",
      "angeneca@yahoo.com.au\n",
      "janus_k@hotmail.com\n",
      "nesse.chan40@gmail.com\n",
      "nesse.chan40@gmail.com\n",
      "cdwang98@yahoo.com\n",
      "cdwang98@yahoo.com\n",
      "nesse.chan40@gmail.com\n",
      "zhongxy2001@hotmail.com\n",
      "aubeaches@gmail.com\n",
      "myanhsydney@yahoo.com\n",
      "kui_l@hotmail.com\n",
      "min.wang.pp@gmail.com\n",
      "jhuang1119@hotmail.com\n",
      "nalphky@yahoo.com\n",
      "jhuang1119@hotmail.com\n"
     ]
    }
   ],
   "source": [
    "update_2012 = []\n",
    "\n",
    "for i in li_2012:\n",
    "    if i not in update_2012:\n",
    "        update_2012.append(i)\n",
    "    else:\n",
    "        print i\n"
   ]
  },
  {
   "cell_type": "code",
   "execution_count": 28,
   "metadata": {
    "collapsed": false
   },
   "outputs": [
    {
     "data": {
      "text/plain": [
       "['wangjiannsw@hotmail.com',\n",
       " 'joe.zhou.8@hotmail.com',\n",
       " 'josephytlau@gmail.com',\n",
       " 'gavinpan2001@yahoo.com',\n",
       " 'jscclui@hotmail.com',\n",
       " 'yuj@stgeorge.com.au',\n",
       " 'jenny.lian@optusnet.com.au',\n",
       " 'angeneca@yahoo.com.au',\n",
       " 'janus_k@hotmail.com',\n",
       " 'nesse.chan40@gmail.com',\n",
       " 'cdwang98@yahoo.com',\n",
       " 'zhongxy2001@hotmail.com',\n",
       " 'aubeaches@gmail.com',\n",
       " 'myanhsydney@yahoo.com',\n",
       " 'kui_l@hotmail.com',\n",
       " 'min.wang.pp@gmail.com',\n",
       " 'jhuang1119@hotmail.com',\n",
       " 'nalphky@yahoo.com']"
      ]
     },
     "execution_count": 28,
     "metadata": {},
     "output_type": "execute_result"
    }
   ],
   "source": [
    "update_2012"
   ]
  },
  {
   "cell_type": "code",
   "execution_count": 32,
   "metadata": {
    "collapsed": false
   },
   "outputs": [
    {
     "name": "stdout",
     "output_type": "stream",
     "text": [
      "wangjiannsw@hotmail.com,joe.zhou.8@hotmail.com,josephytlau@gmail.com,jscclui@hotmail.com,jenny.lian@optusnet.com.au,angeneca@yahoo.com.au,janus_k@hotmail.com,nesse.chan40@gmail.com,cdwang98@yahoo.com,zhongxy2001@hotmail.com,aubeaches@gmail.com,myanhsydney@yahoo.com,kui_l@hotmail.com,min.wang.pp@gmail.com\n"
     ]
    }
   ],
   "source": [
    "new_2012 = []\n",
    "for i in update_2012:\n",
    "    if i not in updated:\n",
    "        new_2012.append(i)\n",
    "\n",
    "print ','.join(new_2012)"
   ]
  },
  {
   "cell_type": "code",
   "execution_count": 33,
   "metadata": {
    "collapsed": true
   },
   "outputs": [],
   "source": [
    "new_2012.remove('janus_k@hotmail.com')"
   ]
  },
  {
   "cell_type": "code",
   "execution_count": 34,
   "metadata": {
    "collapsed": true
   },
   "outputs": [],
   "source": [
    "new_2012.remove('jenny.lian@optusnet.com.au')"
   ]
  },
  {
   "cell_type": "code",
   "execution_count": 35,
   "metadata": {
    "collapsed": false
   },
   "outputs": [
    {
     "data": {
      "text/plain": [
       "['wangjiannsw@hotmail.com',\n",
       " 'joe.zhou.8@hotmail.com',\n",
       " 'josephytlau@gmail.com',\n",
       " 'jscclui@hotmail.com',\n",
       " 'angeneca@yahoo.com.au',\n",
       " 'nesse.chan40@gmail.com',\n",
       " 'cdwang98@yahoo.com',\n",
       " 'zhongxy2001@hotmail.com',\n",
       " 'aubeaches@gmail.com',\n",
       " 'myanhsydney@yahoo.com',\n",
       " 'kui_l@hotmail.com',\n",
       " 'min.wang.pp@gmail.com']"
      ]
     },
     "execution_count": 35,
     "metadata": {},
     "output_type": "execute_result"
    }
   ],
   "source": [
    "new_2012"
   ]
  },
  {
   "cell_type": "code",
   "execution_count": 36,
   "metadata": {
    "collapsed": false
   },
   "outputs": [
    {
     "data": {
      "text/plain": [
       "172"
      ]
     },
     "execution_count": 36,
     "metadata": {},
     "output_type": "execute_result"
    }
   ],
   "source": [
    "len(updated)"
   ]
  },
  {
   "cell_type": "code",
   "execution_count": 37,
   "metadata": {
    "collapsed": true
   },
   "outputs": [],
   "source": [
    "updated.remove('teresa.li@people.net.au')"
   ]
  },
  {
   "cell_type": "code",
   "execution_count": 38,
   "metadata": {
    "collapsed": true
   },
   "outputs": [],
   "source": [
    "updated.remove('toby_to@swiftdsl.com.au')"
   ]
  },
  {
   "cell_type": "code",
   "execution_count": 39,
   "metadata": {
    "collapsed": false
   },
   "outputs": [
    {
     "data": {
      "text/plain": [
       "170"
      ]
     },
     "execution_count": 39,
     "metadata": {},
     "output_type": "execute_result"
    }
   ],
   "source": [
    "len(updated)"
   ]
  },
  {
   "cell_type": "code",
   "execution_count": 40,
   "metadata": {
    "collapsed": true
   },
   "outputs": [],
   "source": [
    "updated.extend(new_2012)"
   ]
  },
  {
   "cell_type": "code",
   "execution_count": 41,
   "metadata": {
    "collapsed": false
   },
   "outputs": [
    {
     "data": {
      "text/plain": [
       "182"
      ]
     },
     "execution_count": 41,
     "metadata": {},
     "output_type": "execute_result"
    }
   ],
   "source": [
    "len(updated)"
   ]
  },
  {
   "cell_type": "code",
   "execution_count": 44,
   "metadata": {
    "collapsed": false
   },
   "outputs": [
    {
     "name": "stdout",
     "output_type": "stream",
     "text": [
      "bob_the_builder_2@hotmail.com,\n",
      "davidkinwong@hotmail.com,\n",
      "dong_w@yahoo.com,\n",
      "flptrade@bigpond.com,\n",
      "franktennistar@hotmail.com,\n",
      "garychen168@hotmail.com,\n",
      "gordonyu0028@gmail.com,\n",
      "grace_yuhua@hotmail.com,\n",
      "info@mobileciti.com.au,\n",
      "liux626@hotmail.com,\n",
      "janicepark@msn.com,\n",
      "jc9494@gmail.com,\n",
      "mocktong@hotmail.com,\n",
      "jenniferhumail@yahoo.com.au,\n",
      "lanlandog@hotmail.com,\n",
      "johnchen636@hotmail.com,\n",
      "jordanfeng@hotmail.com,\n",
      "kellieaus@hotmail.com,\n",
      "peter.lin@ato.gov.au,\n",
      "lwmaggie@hotmail.com,\n",
      "meili_sec@yahoo.com,\n",
      "michaellinking@aol.com,\n",
      "nalphky@yahoo.com,\n",
      "pengj2@anz.com,\n",
      "percychan@optusnet.com.au,\n",
      "rebecca.yywong@optusnet.com.au,\n",
      "ricky_lee_wk@yahoo.com.au,\n",
      "shaobenweng@hotmail.com,\n",
      "sieucoms@hotmail.com,\n",
      "sport.gift@bigpond.com.au,\n",
      "stephenyu@optusnet.com.au,\n",
      "stewartdy@hotmail.com,\n",
      "slyv_t@hotmail.com,\n",
      "yangxinhua@hotmail.com,\n",
      "syukongdi@yahoo.com,\n",
      "threeqiu@tpg.com.au,\n",
      "tigermum@sina.com,\n",
      "tse888@gmail.com,\n",
      "ying11302004@yahoo.com,\n",
      "zhouli316@yahoo.com,\n",
      "sales@powerun.com,\n",
      "chan@drsmile.com.au,\n",
      "dhenryko@hotmail.com,\n",
      "jhuang1119@hotmail.com,\n",
      "pauli_nguyen@hotmail.com,\n",
      "thanhvo@optushome.com.au,\n",
      "davidkinwong@hotmail.com,\n",
      "jacky.leung@anz.com,\n",
      "linyanqing@gmail.com,\n",
      "j.chan@tpg.com.au,\n",
      "kevin.hsu@reuters.com,\n",
      "pleung@westpac.com.au,\n",
      "lppforyou@hotmail.com,\n",
      "leozhou@hotmail.com,\n",
      "raymond@auctionaustralia.com.au,\n",
      "gavinpan2001@yahoo.com,\n",
      "lmoore@biway.com.au,\n",
      "jiaqi0311@sina.com.cn,\n",
      "jia_luo@hotmail.com,\n",
      "ryangzhang@hotmail.com,\n",
      "frank@tri-pacific.com.au,\n",
      "sophia.su@optusnet.com.au,\n",
      "xiaozha@hotmail.com,\n",
      "celine_ywei@hotmail.com,\n",
      "linyanqing@gmail.com,\n",
      "uowhd@yahoo.com,\n",
      "zdengyun@hotmail.com,\n",
      "buscars@hotmail.com,\n",
      "linfan68@hybondair.com,\n",
      "stephen3leung@optusnet.com.au,\n",
      "sheenzhaox@gmail.com,\n",
      "bluemt69@hotmail.com,\n",
      "eric00on@yahoo.com.hk,\n",
      "eric@otcbs.com.au,\n",
      "hcai2002@yahoo.com.au,\n",
      "jinsshipchandler@hotmail.com,\n",
      "crono36@gmail.com,\n",
      "vickychang@hotmail.com,\n",
      "rose389898@hotmail.com,\n",
      "david.shu@dic.com.au,\n",
      "ekschan@optusnet.com.au,\n",
      "maccas_sundae_burger@hotmail.com,\n",
      "jamesjunjia@hotmail.com,\n",
      "rosalineho@hotmail.com,\n",
      "jenniferhumail@yahoo.com.au,\n",
      "terrycai288@hotmail.com,\n",
      "dtmy@optusnet.com.au,\n",
      "zuoren.liu@breville.com.au,\n",
      "neopets30@hotmail.com,\n",
      "dtmy@optusnet.com.au,\n",
      "newimm@hotmail.com,\n",
      "keith.is250@gmail.com,\n",
      "sunnyfish0906@gmail.com,\n",
      "newimm@hotmail.com,\n",
      "datongfu@optusnet.com.au,\n",
      "chenyong_fan@yahoo.com,\n",
      "pinkjade@hotmail.com,\n",
      "joshhua@optusnet.com.au,\n",
      "zhangjunyi7@hotmail.com,\n",
      "liuliu7531@hotmail.com,\n",
      "tonyfriends@gmail.com,\n",
      "yuting_sz@yahoo.com,\n",
      "york.y.huang@gmail.com,\n",
      "eagleskyhuang@gmail.com,\n",
      "stevenwjz@hotmail.com,\n",
      "yuting_sz@yahoo.com,\n",
      "wu.vivian@hotmail.com,\n",
      "hemhem6688@hotmail.com,\n",
      "behindgone@hotmail.com,\n",
      "glenelg878@hotmail.com,\n",
      "panhui0685@hotmail.com,\n",
      "auckland@hotmail.com,\n",
      "goodpanda@hotmail.com,\n",
      "deminzou@hotmail.com,\n",
      "kevin.li.letter@hotmail.com,\n",
      "goodpanda@hotmail.com,\n",
      "lwimam@gmail.com,\n",
      "kevilian@gmail.com,\n",
      "rose@ridersgroup.com,\n",
      "xkmail@gmail.com,\n",
      "neilinaustralia@hotmail.com,\n",
      "yong.t.huang@gmail.com,\n",
      "ttang888@hotmail.com,\n",
      "thedraykid@hotmail.com,\n",
      "zdengyun@hotmail.com,\n",
      "neilinaustralia@hotmail.com,\n",
      "clementcheung@hotmail.com,\n",
      "shaofa@hotmail.com,\n",
      "chenrui00@hotmail.com,\n",
      "xqxiang@yahoo.com,\n",
      "kv_lg@hotmail.com,\n",
      "xiaobaimangmang@hotmail.com,\n",
      "yjjgdr@hotmail.com,\n",
      "guan.su@gmail.com,\n",
      "parry@enerjet.com.au,\n",
      "chenrui00@hotmail.com,\n",
      "shiliang.zhao@gmail.com,\n",
      "xlkk@hotmail.com,\n",
      "xixi888@hotmail.com,\n",
      "huangruiyu013405@hotmail.com,\n",
      "floraxu2003@hotmail.com,\n",
      "lemonctp@hotmail.com,\n",
      "maxwinner@msn.com,\n",
      "gengbo327@hotmail.com,\n",
      "s970022@gmail.com,\n",
      "tim6699_2@hotmail.com,\n",
      "xuzhenga_a@hotmail.com,\n",
      "yanyan429@hotmail.com,\n",
      "romewzr@gmail.com,\n",
      "xxf81922506@hotmail.com,\n",
      "delaocnyx@hotmail.com,\n",
      "ada_lxq@hotmail.com,\n",
      "yishengyang@hotmail.com,\n",
      "tonyfriends@gmail.com,\n",
      "cornwong@126.com,\n",
      "sukyhuang@hotmail.com,\n",
      "amyshao001@hotmail.com,\n",
      "tcy80@yahoo.com,\n",
      "katielkl@hotmail.com,\n",
      "sanpii@hotmail.com,\n",
      "martinwang_oz@hotmail.com,\n",
      "spharm16@gmail.com,\n",
      "yuj@stgeorge.com.au,\n",
      "annieoz@hotmail.com,\n",
      "xutie30@gmail.com,\n",
      "clira@163.com,\n",
      "allenlaw2004@hotmail.com,\n",
      "zhaoyubrian@gmail.com,\n",
      "zane.zuo@gmail.com,\n",
      "julia0187@hotmail.com,\n",
      "wangjiannsw@hotmail.com,\n",
      "joe.zhou.8@hotmail.com,\n",
      "josephytlau@gmail.com,\n",
      "jscclui@hotmail.com,\n",
      "angeneca@yahoo.com.au,\n",
      "nesse.chan40@gmail.com,\n",
      "cdwang98@yahoo.com,\n",
      "zhongxy2001@hotmail.com,\n",
      "aubeaches@gmail.com,\n",
      "myanhsydney@yahoo.com,\n",
      "kui_l@hotmail.com,\n",
      "min.wang.pp@gmail.com,\n"
     ]
    }
   ],
   "source": [
    "for i in updated:\n",
    "    print i+','"
   ]
  },
  {
   "cell_type": "code",
   "execution_count": 1,
   "metadata": {
    "collapsed": false
   },
   "outputs": [
    {
     "name": "stdout",
     "output_type": "stream",
     "text": [
      "georgeguoshaobo@hotmail.com,\n",
      "hcai2002@yahoo.com.au,\n",
      "316396469@qq.com,\n",
      "david.shu@dic.com.au,\n",
      "john521116@hotmail.com,\n",
      "willjyw@hotmail.com,\n",
      "michaellin@promata.cn,\n",
      "stephen.crawford@nat.awu.net.au,\n",
      "koala.147@hotmail.com,\n",
      "henry@herculift.com.au,\n",
      "gongli54@gmail.com,\n",
      "dhenryko@hotmail.com,\n",
      "zhongdarren@hotmail.com,\n",
      "louiliao@gmail.com,\n",
      "yong.t.huang@gmail.com,\n",
      "helenzhai@gmail.com,\n",
      "he0210@163.com,\n",
      "kathyqiu.wu@gmail.com,\n",
      "zhum@y7mail.com,\n",
      "48287164@qq.com,\n",
      "nalphky@yahoo.com,\n",
      "chnjack@gmail.com,\n",
      "460144267@qq.com,\n",
      "graceliu80@hotmail.com,\n",
      "285574747@qq.com,\n",
      "wxy0317@gmail.com,\n",
      "stevenyang_1992@hotmail.com,\n",
      "pzchen@hotmail.com,\n",
      "brianhuang@baulkhamhillshighschool.com.au,\n",
      "jameszhang666@hotmail.com,\n",
      "joanne.yan@quintiles.com,\n",
      "kitty0618@gmail.com,\n",
      "juliasong5@bigpond.com,\n",
      "wzyin12@gmail.com,\n",
      "aida-lubing@hotmail.com,\n",
      "yuj@stgeorge.com.au,\n",
      "andrew@realtyprofessional.com.au,\n",
      "shelley168@live.com.au,\n",
      "crystaltoba@msn.com,\n",
      "chenrui00@hotmail.com,\n",
      "flptrade@bigpond.com,\n",
      "richardygong@gmail.com,\n",
      "johnlu64@optusnet.com.au,\n",
      "vicye59@hotmail.com,\n",
      "zuorenliu@yahoo.com,\n",
      "josephytlau@gmail.com,\n",
      "johnyson1123@hotmail.com,\n",
      "robertluo20@yahoo.com.au,\n",
      "jasonwzhu@gmail.com,\n",
      "357735230@qq.com,\n",
      "buscars@hotmail.com,\n",
      "jasonx168@gmail.com,\n",
      "dongxia68@hotmai.com,\n",
      "civetlai@gmail.com,\n",
      "zhangzhuo94@126.com,\n",
      "yu.kingsley@yahoo.com,\n",
      "richard@realtyprofessional.com.au,\n",
      "rwnz@hotmail.com,\n",
      "xiaoyuanjin626@hotmail.com,\n",
      "chantulio@gmail.com\n"
     ]
    }
   ],
   "source": [
    "players='''Jasonx168@gmail.com\n",
    "johnlu64@optusnet.com.au\n",
    "Graceliu80@hotmail.com\n",
    "shelley168@live.com.au\n",
    "willjyw@hotmail.com\n",
    "helenzhai@gmail.com \n",
    "\n",
    "\n",
    "\n",
    "nalphky@yahoo.com\n",
    "yong.t.huang@gmail.com\n",
    "david.shu@dic.com.au\n",
    "aida-lubing@hotmail.com\n",
    "richard@realtyprofessional.com.au\n",
    "buscars@hotmail.com\n",
    "xiaoyuanjin626@hotmail.com\n",
    "pzchen@hotmail.com\n",
    "johnyson1123@hotmail.com\n",
    "richardygong@gmail.com\n",
    "\n",
    "koala.147@hotmail.com\n",
    "georgeguoshaobo@hotmail.com\n",
    "\n",
    "357735230@QQ.COM\n",
    "rwnz@hotmail.com\n",
    "henry@herculift.com.au\n",
    "civetlai@gmail.com\n",
    "hcai2002@yahoo.com.au\n",
    "zhongdarren@hotmail.com\n",
    "460144267@qq.com\n",
    "WZYIN12@GMAIL.COM\n",
    "jasonwzhu@gmail.com\n",
    "chnjack@gmail.com\n",
    "he0210@163.com\n",
    "wxy0317@gmail.com\n",
    "yuj@stgeorge.com.au\n",
    "andrew@realtyprofessional.com.au\n",
    "316396469@qq.com\n",
    "Yu.kingsley@yahoo.com\n",
    "gongli54@gmail.com\n",
    "zuorenliu@yahoo.com\n",
    "louiliao@gmail.com\n",
    "\n",
    "josephytlau@gmail.com\n",
    "jameszhang666@hotmail.com\n",
    "robertluo20@yahoo.com.au\n",
    "kitty0618@gmail.com\n",
    "dongxia68@hotmai.com\n",
    "chenrui00@hotmail.com\n",
    "juliasong5@bigpond.com\n",
    "Kathyqiu.wu@gmail.com \n",
    "stephen.crawford@nat.awu.net.au\n",
    "\n",
    "david.shu@dic.com.au\n",
    "zhangzhuo94@126.com\n",
    "\n",
    "\n",
    "\n",
    "\n",
    "brianhuang@baulkhamhillshighschool.com.au\n",
    "zhum@y7mail.com\n",
    "\n",
    "dhenryko@hotmail.com\n",
    "\n",
    "\n",
    "357735230@QQ.COM\n",
    "rwnz@hotmail.com\n",
    "flptrade@bigpond.com\n",
    "\n",
    "\n",
    "285574747@qq.com\n",
    "john521116@hotmail.com\n",
    "\n",
    "stevenyang_1992@hotmail.com\n",
    "\n",
    "he0210@163.com\n",
    "\n",
    "yuj@stgeorge.com.au\n",
    "\n",
    "48287164@qq.com\n",
    "\n",
    "\n",
    "michaellin@promata.cn\n",
    "louiliao@gmail.com\n",
    "\n",
    "chantulio@gmail.com\n",
    "\n",
    "vicye59@hotmail.com\n",
    "crystaltoba@msn.com\n",
    "\n",
    "\n",
    "joanne.yan@quintiles.com'''\n",
    "lp = [i.lower().strip() for i in players.split() if i.lower().strip()]\n",
    "slp = set(lp)\n",
    "lp = list(slp)\n",
    "print ',\\n'.join(lp)"
   ]
  },
  {
   "cell_type": "code",
   "execution_count": null,
   "metadata": {
    "collapsed": true
   },
   "outputs": [],
   "source": []
  }
 ],
 "metadata": {
  "kernelspec": {
   "display_name": "Python 2",
   "language": "python",
   "name": "python2"
  },
  "language_info": {
   "codemirror_mode": {
    "name": "ipython",
    "version": 2
   },
   "file_extension": ".py",
   "mimetype": "text/x-python",
   "name": "python",
   "nbconvert_exporter": "python",
   "pygments_lexer": "ipython2",
   "version": "2.7.10"
  }
 },
 "nbformat": 4,
 "nbformat_minor": 0
}
